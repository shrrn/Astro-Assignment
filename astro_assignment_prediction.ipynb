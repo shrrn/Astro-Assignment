{
 "cells": [
  {
   "cell_type": "markdown",
   "metadata": {},
   "source": [
    "# Random Forest on Astro First Movie Purchase"
   ]
  },
  {
   "cell_type": "code",
   "execution_count": 2,
   "metadata": {
    "collapsed": true
   },
   "outputs": [],
   "source": [
    "import numpy as np\n",
    "import pandas as pd\n",
    "from sklearn.ensemble import RandomForestClassifier\n",
    "from sklearn import preprocessing"
   ]
  },
  {
   "cell_type": "markdown",
   "metadata": {},
   "source": [
    "### Load and Prepare Data"
   ]
  },
  {
   "cell_type": "code",
   "execution_count": 3,
   "metadata": {
    "collapsed": true
   },
   "outputs": [],
   "source": [
    "df = pd.read_csv(r'C:\\Users\\Shireen\\Desktop\\Predictive analysis\\Training data for Astro First Munafik.csv')\n",
    "\n",
    "# Remove duplicated accounts\n",
    "df.drop_duplicates(inplace=True)\n",
    "# Impute missing values in Gender with 'Unknown'\n",
    "df['Gender'] = df['Gender'].fillna('Unknown')"
   ]
  },
  {
   "cell_type": "markdown",
   "metadata": {},
   "source": [
    "### Initialise the Random Forest Model"
   ]
  },
  {
   "cell_type": "code",
   "execution_count": 4,
   "metadata": {
    "collapsed": true
   },
   "outputs": [],
   "source": [
    "# Set the seed\n",
    "np.random.seed(415)\n",
    "\n",
    "# Initialize label encoder\n",
    "label_encoder = preprocessing.LabelEncoder()\n",
    "\n",
    "# Convert categorical variables to numeric\n",
    "df['Race'] = label_encoder.fit_transform(df['Race'])\n",
    "df['Gender'] = label_encoder.fit_transform(df['Gender'])\n",
    "\n",
    "# Initialize the model\n",
    "rf_model = RandomForestClassifier(n_estimators=1000, # Number of trees\n",
    "                                  max_features=2,    # Num features considered\n",
    "                                  oob_score=True)    # Use OOB scoring*"
   ]
  },
  {
   "cell_type": "markdown",
   "metadata": {},
   "source": [
    "### Train the Model"
   ]
  },
  {
   "cell_type": "code",
   "execution_count": 5,
   "metadata": {
    "collapsed": false
   },
   "outputs": [
    {
     "name": "stdout",
     "output_type": "stream",
     "text": [
      "OOB accuracy: \n",
      "0.748821744677\n"
     ]
    }
   ],
   "source": [
    "# Training features\n",
    "features = [\"Race\",\"Gender\",\"Astro First 2015 Q4 purchases\",\"Astro First 2016 Q1 purchases\",\\\n",
    "            \"Astro Best 2015 Q4 purchases\",\"Astro Best 2016 Q1 purchases\",\"Having Super Pack\",\"Having AOTG\"]\n",
    "\n",
    "# Train the model\n",
    "rf_model.fit(X=df[features],\n",
    "             y=df[\"Purchased Munafik\"])\n",
    "\n",
    "print(\"OOB accuracy: \")\n",
    "print(rf_model.oob_score_)"
   ]
  },
  {
   "cell_type": "markdown",
   "metadata": {},
   "source": [
    "Check feature importance for the random forest model. This tells us the most useful variables that contributes in our model."
   ]
  },
  {
   "cell_type": "code",
   "execution_count": 6,
   "metadata": {
    "collapsed": false
   },
   "outputs": [
    {
     "name": "stdout",
     "output_type": "stream",
     "text": [
      "('Race', 0.43473136395198531)\n",
      "('Gender', 0.072708199260066872)\n",
      "('Astro First 2015 Q4 purchases', 0.15101339995057131)\n",
      "('Astro First 2016 Q1 purchases', 0.1141107582827169)\n",
      "('Astro Best 2015 Q4 purchases', 0.088913127798355154)\n",
      "('Astro Best 2016 Q1 purchases', 0.11629287710444133)\n",
      "('Having Super Pack', 0.012512376681129462)\n",
      "('Having AOTG', 0.0097178969707332283)\n"
     ]
    }
   ],
   "source": [
    "for feature, imp in zip(features, rf_model.feature_importances_):\n",
    "    print(feature, imp)"
   ]
  },
  {
   "cell_type": "markdown",
   "metadata": {},
   "source": [
    "Feature importance tells us that Race is the most useful variable. It also tells us that \"Having AOTG\" and \"Having Super Pack\" are not that important and can be eliminated."
   ]
  },
  {
   "cell_type": "code",
   "execution_count": 7,
   "metadata": {
    "collapsed": false
   },
   "outputs": [
    {
     "name": "stdout",
     "output_type": "stream",
     "text": [
      "OOB accuracy: \n",
      "0.750004957596\n"
     ]
    }
   ],
   "source": [
    "# Training features\n",
    "features = [\"Race\",\"Gender\",\"Astro First 2015 Q4 purchases\",\"Astro First 2016 Q1 purchases\",\\\n",
    "            \"Astro Best 2015 Q4 purchases\",\"Astro Best 2016 Q1 purchases\"]\n",
    "\n",
    "# Train the model\n",
    "rf_model.fit(X=df[features],\n",
    "             y=df[\"Purchased Munafik\"])\n",
    "\n",
    "print(\"OOB accuracy: \")\n",
    "print(rf_model.oob_score_)"
   ]
  },
  {
   "cell_type": "markdown",
   "metadata": {},
   "source": [
    "It shows that eliminating these features slightly improve the prediction accuracy. Therefore only these variables will be used to predict the test data.\n",
    "\n",
    "## Test Set"
   ]
  },
  {
   "cell_type": "code",
   "execution_count": 40,
   "metadata": {
    "collapsed": false
   },
   "outputs": [],
   "source": [
    "df_test = pd.read_csv(r'C:\\Users\\Shireen\\Desktop\\Predictive analysis\\Data to predict for Astro First Munafik.csv')\n",
    "\n",
    "# Impute missing values in Gender with 'Unknown'\n",
    "df_test['Gender'] = df_test['Gender'].fillna('Unknown')"
   ]
  },
  {
   "cell_type": "code",
   "execution_count": 66,
   "metadata": {
    "collapsed": false
   },
   "outputs": [],
   "source": [
    "# Convert categorical variables to numeric\n",
    "df_test['Race'] = label_encoder.fit_transform(df_test['Race'])\n",
    "df_test['Gender'] = label_encoder.fit_transform(df_test['Gender'])\n",
    "\n",
    "# Make test set predictions\n",
    "test_preds = rf_model.predict(X= df_test[features])\n",
    "df_test['Purchased Munafik'] = pd.DataFrame(test_preds)\n",
    "df_test.to_csv(r'C:\\Users\\Shireen\\Desktop\\Predictive analysis\\Data to predict for Astro First Munafik - Submission.csv')"
   ]
  }
 ],
 "metadata": {
  "anaconda-cloud": {},
  "kernelspec": {
   "display_name": "Python [default]",
   "language": "python",
   "name": "python2"
  },
  "language_info": {
   "codemirror_mode": {
    "name": "ipython",
    "version": 2
   },
   "file_extension": ".py",
   "mimetype": "text/x-python",
   "name": "python",
   "nbconvert_exporter": "python",
   "pygments_lexer": "ipython2",
   "version": "2.7.12"
  }
 },
 "nbformat": 4,
 "nbformat_minor": 1
}
